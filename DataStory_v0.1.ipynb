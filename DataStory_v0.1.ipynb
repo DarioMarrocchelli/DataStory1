{
 "cells": [
  {
   "cell_type": "code",
   "execution_count": 2,
   "metadata": {
    "collapsed": true
   },
   "outputs": [],
   "source": [
    "%matplotlib inline\n",
    "import pandas as pd\n",
    "data = pd.DataFrame.from_csv('./mode-report-run-5bbb05c4cff9.csv', index_col=None)"
   ]
  },
  {
   "cell_type": "code",
   "execution_count": null,
   "metadata": {
    "collapsed": true
   },
   "outputs": [],
   "source": []
  },
  {
   "cell_type": "markdown",
   "metadata": {},
   "source": [
    "## When it comes to international cuisine, Americans love Italian!"
   ]
  },
  {
   "cell_type": "markdown",
   "metadata": {
    "collapsed": true
   },
   "source": [
    "In a recent survey, 100 people from across the US were asked to grade foods from all over the World as well as self-assess their knowledge levels and interest in international cuisine. It turns out that Americans are quite interested in international cuisine, with about 80% of the respondents saying that they are either some or a lot interested. The figure below shows the top and bottom 5 cuisines as well as the average grade awarded in this study (grades were out of 5; the average grade in the plot refers to the average over all types of food). Italian cuisine is the clear winner, with a grade of 4.3, followed by Mexican and American cusines (3.95 and 3.8, respectively). At the bottom of the survery, we find Nigeria, which scores a mere 2.4 out of 5.\n",
    "\n"
   ]
  },
  {
   "cell_type": "code",
   "execution_count": 7,
   "metadata": {
    "collapsed": false
   },
   "outputs": [
    {
     "data": {
      "text/plain": [
       "<matplotlib.axes._subplots.AxesSubplot at 0x109431050>"
      ]
     },
     "execution_count": 7,
     "metadata": {},
     "output_type": "execute_result"
    },
    {
     "data": {
      "image/png": "[encoded data removed]",
      "text/plain": [
       "<matplotlib.figure.Figure at 0x1094ac850>"
      ]
     },
     "metadata": {},
     "output_type": "display_data"
    }
   ],
   "source": [
    "df = data\n",
    "ave = df.mean().order(ascending = False)\n",
    "# Dirty trick to remove the respondent ID column\n",
    "new_ave = ave[1:41]\n",
    "summary = new_ave.head(5)\n",
    "mean = pd.Series(new_ave.mean(), index = ['average'])\n",
    "summary = summary.append(mean)\n",
    "summary = summary.append(new_ave.tail(5))\n",
    "summary = summary.order(ascending = True)\n",
    "summary.plot(kind = 'barh')\n"
   ]
  },
  {
   "cell_type": "markdown",
   "metadata": {
    "collapsed": true
   },
   "source": [
    "Care must be exercised when analysing these results. Indeed, since certain types of cuisines are less well known than others, one has to be make sure enough responses are logged so that the sample is statistically valid. In the case of Nigerian food, only five people out of 100 rated this cusine, a very poor statistical sample. Similarly, Ivory Coast  Uruguay, Ethiopia and the Netherlands only received 8, 14, 21 and 25 grades. Using an n > 30 criterion (see the Data Anlysis and Statistical Inference course on Coursera), we remove the above-mentioned countries and make a new figure below. Italian, Mexican and US cusines remain on top while English and Russian cusines can now claim the honor of being the worst in the world (and in a statistically sound manner!)."
   ]
  },
  {
   "cell_type": "code",
   "execution_count": 16,
   "metadata": {
    "collapsed": false
   },
   "outputs": [
    {
     "data": {
      "text/plain": [
       "<matplotlib.axes._subplots.AxesSubplot at 0x109cac310>"
      ]
     },
     "execution_count": 16,
     "metadata": {},
     "output_type": "execute_result"
    },
    {
     "data": {
      "image/png": "[encoded data removed]",
      "text/plain": [
       "<matplotlib.figure.Figure at 0x1098483d0>"
      ]
     },
     "metadata": {},
     "output_type": "display_data"
    }
   ],
   "source": [
    "summary.drop(['the_netherlands', 'nigeria', 'ivory_coast', 'uruguay', 'ethiopia']).plot(kind = 'barh')"
   ]
  },
  {
   "cell_type": "markdown",
   "metadata": {
    "collapsed": true
   },
   "source": [
    "Further data analysis can show some other interesting trends. For example, as shown in the figure below, people with an advanced level of knowledge of international cusines give sistematically larger average grades (3.94) than people with intermediate or novice knowledge levels (3.41 and 3.25, respectively). It could be that a higher knowledge of international cusine leads to an overall higher appreciation of it or, alternatively, that people who are more enthusiastic about food  are also more inclined to try international cuisines. Further data is necessary to explore this question."
   ]
  },
  {
   "cell_type": "code",
   "execution_count": 20,
   "metadata": {
    "collapsed": false
   },
   "outputs": [
    {
     "data": {
      "text/plain": [
       "<matplotlib.axes._subplots.AxesSubplot at 0x10a441dd0>"
      ]
     },
     "execution_count": 20,
     "metadata": {},
     "output_type": "execute_result"
    },
    {
     "data": {
      "image/png": "[encoded data removed]",
      "text/plain": [
       "<matplotlib.figure.Figure at 0x109bad290>"
      ]
     },
     "metadata": {},
     "output_type": "display_data"
    }
   ],
   "source": [
    "df = data\n",
    "df = df.groupby(['knowledge_level_of_international_food','gender']).mean()\n",
    "df = df.unstack(0)\n",
    "df = df.stack(0)\n",
    "df1 = df.loc['Male']\n",
    "df2 = df.loc['Female']\n",
    "new_df = (df1 + df2)/2\n",
    "new_df = new_df.drop(('respondent_id'))\n",
    "new_df.mean().plot(kind = 'bar')"
   ]
  },
  {
   "cell_type": "markdown",
   "metadata": {
    "collapsed": true
   },
   "source": [
    "Finally, we have tried to find any correlation between the knowledge of international food (or interest) with income/education. We did not find any clear trend, probably because of poor statistics. For instance, when one groups the interest in international food by the income level, each category can have as little as 1 or 0 responses. For similar reasons, we could not find any geographical correlation (e.g. do people on the West coast like more certain types of foods?) nor any gender correlation. Interesting, we did find that the number of male respondents (53) was much larger than that of female responders (38), an oddity since in the US there are more women than men (https://en.wikipedia.org/wiki/List_of_countries_by_sex_ratio). This could show that the sample was not properly randomized and could point out to some interesting unconscious gender bias. This is another point that merits further exploration."
   ]
  },
  {
   "cell_type": "code",
   "execution_count": null,
   "metadata": {
    "collapsed": true
   },
   "outputs": [],
   "source": []
  },
  {
   "cell_type": "code",
   "execution_count": null,
   "metadata": {
    "collapsed": true
   },
   "outputs": [],
   "source": []
  },
  {
   "cell_type": "markdown",
   "metadata": {
    "collapsed": true
   },
   "source": []
  }
 ],
 "metadata": {
  "kernelspec": {
   "display_name": "Python 2",
   "language": "python",
   "name": "python2"
  },
  "language_info": {
   "codemirror_mode": {
    "name": "ipython",
    "version": 2
   },
   "file_extension": ".py",
   "mimetype": "text/x-python",
   "name": "python",
   "nbconvert_exporter": "python",
   "pygments_lexer": "ipython2",
   "version": "2.7.10"
  }
 },
 "nbformat": 4,
 "nbformat_minor": 0
}
