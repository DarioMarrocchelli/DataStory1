{
 "cells": [
  {
   "cell_type": "code",
   "execution_count": 1,
   "metadata": {
    "collapsed": true
   },
   "outputs": [],
   "source": [
    "%matplotlib inline\n",
    "import pandas as pd"
   ]
  },
  {
   "cell_type": "code",
   "execution_count": 2,
   "metadata": {
    "collapsed": false
   },
   "outputs": [],
   "source": [
    "data = pd.DataFrame.from_csv('./mode-report-run-5bbb05c4cff9.csv', index_col=None)"
   ]
  },
  {
   "cell_type": "code",
   "execution_count": 322,
   "metadata": {
    "collapsed": false
   },
   "outputs": [],
   "source": []
  },
  {
   "cell_type": "markdown",
   "metadata": {},
   "source": [
    "Here are a few questions that come to my mind:\n",
    "\n",
    "    1) See which cuisines are the most/least popular\n",
    "    2) Any correlation between knowledge of international food (or interest) with income/education?\n",
    "    3) What about any geographical connection? Do Pacific people like Chineese more?\n",
    "    4) Any age/gender trend?"
   ]
  },
  {
   "cell_type": "code",
   "execution_count": 326,
   "metadata": {
    "collapsed": false
   },
   "outputs": [
    {
     "data": {
      "text/html": [
       "<div>\n",
       "<table border=\"1\" class=\"dataframe\">\n",
       "  <thead>\n",
       "    <tr style=\"text-align: right;\">\n",
       "      <th></th>\n",
       "      <th>respondent_id</th>\n",
       "      <th>knowledge_level_of_international_food</th>\n",
       "      <th>interested_in_international_foods</th>\n",
       "      <th>algeria</th>\n",
       "      <th>argentina</th>\n",
       "      <th>australia</th>\n",
       "      <th>belgium</th>\n",
       "      <th>bosnia_and_herzegovina</th>\n",
       "      <th>brazil</th>\n",
       "      <th>cameroon</th>\n",
       "      <th>...</th>\n",
       "      <th>turkey</th>\n",
       "      <th>cuba</th>\n",
       "      <th>ethiopia</th>\n",
       "      <th>vietnam</th>\n",
       "      <th>ireland</th>\n",
       "      <th>gender</th>\n",
       "      <th>age</th>\n",
       "      <th>household_income</th>\n",
       "      <th>education</th>\n",
       "      <th>census_region_location</th>\n",
       "    </tr>\n",
       "  </thead>\n",
       "  <tbody>\n",
       "    <tr>\n",
       "      <th>0</th>\n",
       "      <td>3308895255</td>\n",
       "      <td>Intermediate</td>\n",
       "      <td>Some</td>\n",
       "      <td>NaN</td>\n",
       "      <td>3</td>\n",
       "      <td>5</td>\n",
       "      <td>4</td>\n",
       "      <td>NaN</td>\n",
       "      <td>3</td>\n",
       "      <td>NaN</td>\n",
       "      <td>...</td>\n",
       "      <td>NaN</td>\n",
       "      <td>NaN</td>\n",
       "      <td>3</td>\n",
       "      <td>NaN</td>\n",
       "      <td>4</td>\n",
       "      <td>Male</td>\n",
       "      <td>18-29</td>\n",
       "      <td>$100,000 - $149,999</td>\n",
       "      <td>Less than high school degree</td>\n",
       "      <td>West South Central</td>\n",
       "    </tr>\n",
       "    <tr>\n",
       "      <th>1</th>\n",
       "      <td>3308891308</td>\n",
       "      <td>Novice</td>\n",
       "      <td>Some</td>\n",
       "      <td>NaN</td>\n",
       "      <td>NaN</td>\n",
       "      <td>3</td>\n",
       "      <td>3</td>\n",
       "      <td>NaN</td>\n",
       "      <td>3</td>\n",
       "      <td>NaN</td>\n",
       "      <td>...</td>\n",
       "      <td>NaN</td>\n",
       "      <td>NaN</td>\n",
       "      <td>NaN</td>\n",
       "      <td>NaN</td>\n",
       "      <td>4</td>\n",
       "      <td>Male</td>\n",
       "      <td>18-29</td>\n",
       "      <td>$100,000 - $149,999</td>\n",
       "      <td>Some college or Associate degree</td>\n",
       "      <td>West South Central</td>\n",
       "    </tr>\n",
       "    <tr>\n",
       "      <th>2</th>\n",
       "      <td>3308891135</td>\n",
       "      <td>Intermediate</td>\n",
       "      <td>A lot</td>\n",
       "      <td>3</td>\n",
       "      <td>4</td>\n",
       "      <td>NaN</td>\n",
       "      <td>3</td>\n",
       "      <td>NaN</td>\n",
       "      <td>4</td>\n",
       "      <td>5</td>\n",
       "      <td>...</td>\n",
       "      <td>NaN</td>\n",
       "      <td>4</td>\n",
       "      <td>5</td>\n",
       "      <td>4</td>\n",
       "      <td>3</td>\n",
       "      <td>Male</td>\n",
       "      <td>30-44</td>\n",
       "      <td>$50,000 - $99,999</td>\n",
       "      <td>Graduate degree</td>\n",
       "      <td>Pacific</td>\n",
       "    </tr>\n",
       "    <tr>\n",
       "      <th>3</th>\n",
       "      <td>3308879091</td>\n",
       "      <td>Novice</td>\n",
       "      <td>Not much���</td>\n",
       "      <td>NaN</td>\n",
       "      <td>3</td>\n",
       "      <td>NaN</td>\n",
       "      <td>3</td>\n",
       "      <td>NaN</td>\n",
       "      <td>NaN</td>\n",
       "      <td>3</td>\n",
       "      <td>...</td>\n",
       "      <td>3</td>\n",
       "      <td>4</td>\n",
       "      <td>NaN</td>\n",
       "      <td>4</td>\n",
       "      <td>3</td>\n",
       "      <td>Male</td>\n",
       "      <td>45-60</td>\n",
       "      <td>$0 - $24,999</td>\n",
       "      <td>Less than high school degree</td>\n",
       "      <td>New England</td>\n",
       "    </tr>\n",
       "    <tr>\n",
       "      <th>4</th>\n",
       "      <td>3308871671</td>\n",
       "      <td>Novice</td>\n",
       "      <td>Not much���</td>\n",
       "      <td>NaN</td>\n",
       "      <td>NaN</td>\n",
       "      <td>NaN</td>\n",
       "      <td>NaN</td>\n",
       "      <td>NaN</td>\n",
       "      <td>NaN</td>\n",
       "      <td>NaN</td>\n",
       "      <td>...</td>\n",
       "      <td>NaN</td>\n",
       "      <td>3</td>\n",
       "      <td>NaN</td>\n",
       "      <td>3</td>\n",
       "      <td>NaN</td>\n",
       "      <td>Male</td>\n",
       "      <td>30-44</td>\n",
       "      <td>$25,000 - $49,999</td>\n",
       "      <td>High school degree</td>\n",
       "      <td>Pacific</td>\n",
       "    </tr>\n",
       "  </tbody>\n",
       "</table>\n",
       "<p>5 rows × 48 columns</p>\n",
       "</div>"
      ],
      "text/plain": [
       "   respondent_id knowledge_level_of_international_food  \\\n",
       "0     3308895255                          Intermediate   \n",
       "1     3308891308                                Novice   \n",
       "2     3308891135                          Intermediate   \n",
       "3     3308879091                                Novice   \n",
       "4     3308871671                                Novice   \n",
       "\n",
       "  interested_in_international_foods  algeria  argentina  australia  belgium  \\\n",
       "0                              Some      NaN          3          5        4   \n",
       "1                              Some      NaN        NaN          3        3   \n",
       "2                             A lot        3          4        NaN        3   \n",
       "3                       Not much���      NaN          3        NaN        3   \n",
       "4                       Not much���      NaN        NaN        NaN      NaN   \n",
       "\n",
       "   bosnia_and_herzegovina  brazil  cameroon           ...            turkey  \\\n",
       "0                     NaN       3       NaN           ...               NaN   \n",
       "1                     NaN       3       NaN           ...               NaN   \n",
       "2                     NaN       4         5           ...               NaN   \n",
       "3                     NaN     NaN         3           ...                 3   \n",
       "4                     NaN     NaN       NaN           ...               NaN   \n",
       "\n",
       "   cuba  ethiopia  vietnam  ireland  gender    age     household_income  \\\n",
       "0   NaN         3      NaN        4    Male  18-29  $100,000 - $149,999   \n",
       "1   NaN       NaN      NaN        4    Male  18-29  $100,000 - $149,999   \n",
       "2     4         5        4        3    Male  30-44    $50,000 - $99,999   \n",
       "3     4       NaN        4        3    Male  45-60         $0 - $24,999   \n",
       "4     3       NaN        3      NaN    Male  30-44    $25,000 - $49,999   \n",
       "\n",
       "                          education  census_region_location  \n",
       "0      Less than high school degree      West South Central  \n",
       "1  Some college or Associate degree      West South Central  \n",
       "2                   Graduate degree                 Pacific  \n",
       "3      Less than high school degree             New England  \n",
       "4                High school degree                 Pacific  \n",
       "\n",
       "[5 rows x 48 columns]"
      ]
     },
     "execution_count": 326,
     "metadata": {},
     "output_type": "execute_result"
    }
   ],
   "source": [
    "df.head()"
   ]
  },
  {
   "cell_type": "code",
   "execution_count": 4,
   "metadata": {
    "collapsed": false
   },
   "outputs": [
    {
     "data": {
      "text/plain": [
       "<matplotlib.axes._subplots.AxesSubplot at 0x109583750>"
      ]
     },
     "execution_count": 4,
     "metadata": {},
     "output_type": "execute_result"
    },
    {
     "data": {
      "image/png": "[encoded data removed]",
      "text/plain": [
       "<matplotlib.figure.Figure at 0x109493e90>"
      ]
     },
     "metadata": {},
     "output_type": "display_data"
    }
   ],
   "source": [
    "df = data\n",
    "df = df.groupby(['knowledge_level_of_international_food','gender']).mean()\n",
    "df = df.unstack(0)\n",
    "df = df.stack(0)\n",
    "df1 = df.loc['Male']\n",
    "df2 = df.loc['Female']\n",
    "new_df = (df1 + df2)/2\n",
    "new_df = new_df.drop(('respondent_id'))\n",
    "new_df.mean().plot(kind = 'bar')"
   ]
  },
  {
   "cell_type": "markdown",
   "metadata": {},
   "source": [
    "People with a more advanced knowledge give significantly higher grades"
   ]
  },
  {
   "cell_type": "code",
   "execution_count": 9,
   "metadata": {
    "collapsed": false
   },
   "outputs": [
    {
     "data": {
      "text/plain": [
       "interested_in_international_foods  gender\n",
       "A lot                              Female    11\n",
       "                                   Male      15\n",
       "Not at all���                      Male       6\n",
       "Not much���                        Female     6\n",
       "                                   Male      11\n",
       "Some                               Female    21\n",
       "                                   Male      21\n",
       "dtype: int64"
      ]
     },
     "execution_count": 9,
     "metadata": {},
     "output_type": "execute_result"
    }
   ],
   "source": [
    "df = data\n",
    "df = df.groupby(['interested_in_international_foods','gender']).size()\n",
    "df\n",
    "#df = df.unstack(0)\n",
    "#df = df.stack(0)\n",
    "#df1 = df.loc['Male']\n",
    "#df2 = df.loc['Female'].fillna('0')\n",
    "#new_df = df1.add(df2, fill_value = 0)\n",
    "#new_df = new_df.drop(('respondent_id'))\n",
    "#s = new_df.sum()\n",
    "#new_df = new_df/s\n",
    "#new_df.order().plot(kind = 'bar')\n",
    "#data['interested_in_international_foods'].count()"
   ]
  },
  {
   "cell_type": "markdown",
   "metadata": {},
   "source": [
    "The majority of respondent (80%) has a certain interest in international cuisine"
   ]
  },
  {
   "cell_type": "code",
   "execution_count": 50,
   "metadata": {
    "collapsed": false
   },
   "outputs": [
    {
     "data": {
      "text/plain": [
       "nigeria            2.400000\n",
       "ivory_coast        2.875000\n",
       "russia             2.900000\n",
       "uruguay            2.928571\n",
       "england            2.975000\n",
       "average            3.390457\n",
       "ethiopia           3.714286\n",
       "the_netherlands    3.720000\n",
       "united_states      3.782609\n",
       "mexico             3.953488\n",
       "italy              4.305882\n",
       "dtype: float64"
      ]
     },
     "execution_count": 50,
     "metadata": {},
     "output_type": "execute_result"
    },
    {
     "data": {
      "image/png": "[encoded data removed]",
      "text/plain": [
       "<matplotlib.figure.Figure at 0x109d70210>"
      ]
     },
     "metadata": {},
     "output_type": "display_data"
    }
   ],
   "source": [
    "df = data\n",
    "ave = df.mean().order(ascending = False)\n",
    "# Dirty trick to remove the respondent ID column\n",
    "new_ave = ave[1:41]\n",
    "summary = new_ave.head(5)\n",
    "mean = pd.Series(new_ave.mean(), index = ['average'])\n",
    "summary = summary.append(mean)\n",
    "summary = summary.append(new_ave.tail(5))\n",
    "summary = summary.order(ascending = True)\n",
    "summary.plot(kind = 'barh')\n",
    "summary\n"
   ]
  },
  {
   "cell_type": "code",
   "execution_count": 7,
   "metadata": {
    "collapsed": false
   },
   "outputs": [
    {
     "data": {
      "text/plain": [
       "england        2.975000\n",
       "uruguay        2.928571\n",
       "russia         2.900000\n",
       "ivory_coast    2.875000\n",
       "nigeria        2.400000\n",
       "dtype: float64"
      ]
     },
     "execution_count": 7,
     "metadata": {},
     "output_type": "execute_result"
    }
   ],
   "source": [
    "df = data\n",
    "ave = df.mean().order(ascending = False)\n",
    "# Dirty trick to remove the respondent ID column\n",
    "new_ave = ave[1:41]\n",
    "new_ave.tail(5)"
   ]
  },
  {
   "cell_type": "markdown",
   "metadata": {},
   "source": [
    "The 5 most popular cuisines are Italian, Mexican, USA, Dutch and Ethiopian! The worst are England, Uruguay, Russia, Ivory Coast and Nigeria.\n",
    "\n",
    "I am really surprised about the Dutch and Ethiopian result! Also, interestingly, France and Spain do not make it in the top 5."
   ]
  },
  {
   "cell_type": "code",
   "execution_count": 117,
   "metadata": {
    "collapsed": false
   },
   "outputs": [
    {
     "data": {
      "text/plain": [
       "<matplotlib.axes._subplots.AxesSubplot at 0x10814a590>"
      ]
     },
     "execution_count": 117,
     "metadata": {},
     "output_type": "execute_result"
    },
    {
     "data": {
      "image/png": "[encoded data removed]",
      "text/plain": [
       "<matplotlib.figure.Figure at 0x107e7e890>"
      ]
     },
     "metadata": {},
     "output_type": "display_data"
    }
   ],
   "source": [
    "new_ave.plot()"
   ]
  },
  {
   "cell_type": "code",
   "execution_count": 401,
   "metadata": {
    "collapsed": false
   },
   "outputs": [
    {
     "data": {
      "text/plain": [
       "<matplotlib.axes._subplots.AxesSubplot at 0x10ec34550>"
      ]
     },
     "execution_count": 401,
     "metadata": {},
     "output_type": "execute_result"
    },
    {
     "data": {
      "image/png": "[encoded data removed]",
      "text/plain": [
       "<matplotlib.figure.Figure at 0x10d41b050>"
      ]
     },
     "metadata": {},
     "output_type": "display_data"
    }
   ],
   "source": [
    "g = df.groupby(['age', 'gender']).mean()\n",
    "g = g.unstack(0)\n",
    "g = g.stack(0)\n",
    "df1 = g.loc['Male']\n",
    "df2 = g.loc['Female']\n",
    "new_df = (df1 + df2)/2\n",
    "new_df = new_df.drop(('respondent_id'))\n",
    "#new_df.plot(ylim = (1,5.5))\n",
    "#new_df\n",
    "new_df.loc[['italy','mexico','united_states','the_netherlands','ethiopia']].plot(ylim = (1,5.5))\n"
   ]
  },
  {
   "cell_type": "code",
   "execution_count": 502,
   "metadata": {
    "collapsed": false
   },
   "outputs": [
    {
     "data": {
      "text/plain": [
       "<matplotlib.axes._subplots.AxesSubplot at 0x10eeaf050>"
      ]
     },
     "execution_count": 502,
     "metadata": {},
     "output_type": "execute_result"
    },
    {
     "data": {
      "image/png": "[encoded data removed]",
      "text/plain": [
       "<matplotlib.figure.Figure at 0x10d408e50>"
      ]
     },
     "metadata": {},
     "output_type": "display_data"
    }
   ],
   "source": [
    "df = data\n",
    "df = df.groupby(['knowledge_level_of_international_food','gender']).mean()\n",
    "df = df.unstack(0)\n",
    "df = df.stack(0)\n",
    "df1 = df.loc['Male']\n",
    "df2 = df.loc['Female']\n",
    "new_df = (df1 + df2)/2\n",
    "new_df = new_df.drop(('respondent_id'))\n",
    "#new_df.loc[['italy','mexico','united_states','the_netherlands','ethiopia']]\n",
    "new_df['Advanced'].order(ascending = False).head(5).plot()\n",
    "#new_df['Intermediate'].order(ascending = False).head(5).plot()\n",
    "#new_df['Novice'].order(ascending = False).head(5).plot()\n",
    "#data.groupby(['knowledge_level_of_international_food', 'ghana']).size()\n",
    "#data['ghana']"
   ]
  },
  {
   "cell_type": "code",
   "execution_count": 503,
   "metadata": {
    "collapsed": false
   },
   "outputs": [
    {
     "data": {
      "text/plain": [
       "<matplotlib.axes._subplots.AxesSubplot at 0x10f78b950>"
      ]
     },
     "execution_count": 503,
     "metadata": {},
     "output_type": "execute_result"
    },
    {
     "data": {
      "image/png": "[encoded data removed]",
      "text/plain": [
       "<matplotlib.figure.Figure at 0x10ecf5c10>"
      ]
     },
     "metadata": {},
     "output_type": "display_data"
    }
   ],
   "source": [
    "new_df['Intermediate'].order(ascending = False).head(5).plot()"
   ]
  },
  {
   "cell_type": "code",
   "execution_count": 504,
   "metadata": {
    "collapsed": false
   },
   "outputs": [
    {
     "data": {
      "text/plain": [
       "<matplotlib.axes._subplots.AxesSubplot at 0x103bb8950>"
      ]
     },
     "execution_count": 504,
     "metadata": {},
     "output_type": "execute_result"
    },
    {
     "data": {
      "image/png": "[encoded data removed]",
      "text/plain": [
       "<matplotlib.figure.Figure at 0x10ecf5090>"
      ]
     },
     "metadata": {},
     "output_type": "display_data"
    }
   ],
   "source": [
    "new_df['Novice'].order(ascending = False).head(5).plot()"
   ]
  },
  {
   "cell_type": "markdown",
   "metadata": {},
   "source": [
    "I am showing the top 5 most popular cuisines for the Advanced, Intermediate and Novice levels. Italian always comes on top"
   ]
  },
  {
   "cell_type": "code",
   "execution_count": null,
   "metadata": {
    "collapsed": true
   },
   "outputs": [],
   "source": []
  },
  {
   "cell_type": "code",
   "execution_count": null,
   "metadata": {
    "collapsed": true
   },
   "outputs": [],
   "source": []
  },
  {
   "cell_type": "code",
   "execution_count": 410,
   "metadata": {
    "collapsed": false
   },
   "outputs": [
    {
     "data": {
      "text/plain": [
       "household_income     interested_in_international_foods\n",
       "$0 - $24,999         A lot                                 3\n",
       "                     Not at all���                         1\n",
       "                     Not much���                           3\n",
       "                     Some                                  6\n",
       "$100,000 - $149,999  A lot                                 2\n",
       "                     Not much���                           1\n",
       "                     Some                                  5\n",
       "$150,000+            A lot                                 5\n",
       "                     Not at all���                         1\n",
       "                     Not much���                           2\n",
       "                     Some                                  3\n",
       "$25,000 - $49,999    A lot                                 4\n",
       "                     Not much���                           2\n",
       "                     Some                                  8\n",
       "$50,000 - $99,999    A lot                                 9\n",
       "                     Not at all���                         3\n",
       "                     Not much���                           4\n",
       "                     Some                                 13\n",
       "dtype: int64"
      ]
     },
     "execution_count": 410,
     "metadata": {},
     "output_type": "execute_result"
    }
   ],
   "source": [
    "d = data\n",
    "d= d.groupby(['household_income', 'interested_in_international_foods']).size()\n",
    "d"
   ]
  },
  {
   "cell_type": "code",
   "execution_count": null,
   "metadata": {
    "collapsed": true
   },
   "outputs": [],
   "source": []
  },
  {
   "cell_type": "code",
   "execution_count": null,
   "metadata": {
    "collapsed": true
   },
   "outputs": [],
   "source": []
  },
  {
   "cell_type": "code",
   "execution_count": null,
   "metadata": {
    "collapsed": true
   },
   "outputs": [],
   "source": []
  },
  {
   "cell_type": "markdown",
   "metadata": {},
   "source": [
    "Hard to find any strong correlation between income and interest in international foods..."
   ]
  },
  {
   "cell_type": "markdown",
   "metadata": {
    "collapsed": true
   },
   "source": []
  },
  {
   "cell_type": "code",
   "execution_count": 415,
   "metadata": {
    "collapsed": false
   },
   "outputs": [],
   "source": [
    "d = data\n",
    "d= d.groupby(['education', 'interested_in_international_foods']).size()\n"
   ]
  },
  {
   "cell_type": "markdown",
   "metadata": {
    "collapsed": true
   },
   "source": [
    "Also in this case it is hard to find any strong correlation..."
   ]
  },
  {
   "cell_type": "code",
   "execution_count": null,
   "metadata": {
    "collapsed": true
   },
   "outputs": [],
   "source": []
  },
  {
   "cell_type": "code",
   "execution_count": 423,
   "metadata": {
    "collapsed": false
   },
   "outputs": [
    {
     "data": {
      "text/plain": [
       "census_region_location\n",
       "East North Central    3.823529\n",
       "East South Central    4.000000\n",
       "Middle Atlantic       3.500000\n",
       "Mountain              3.714286\n",
       "New England           3.400000\n",
       "Pacific               3.300000\n",
       "South Atlantic        3.421053\n",
       "West North Central    4.333333\n",
       "West South Central    3.571429\n",
       "Name: china, dtype: float64"
      ]
     },
     "execution_count": 423,
     "metadata": {},
     "output_type": "execute_result"
    }
   ],
   "source": [
    "d = data\n",
    "d= d.groupby(['census_region_location'])['china'].mean()\n",
    "d"
   ]
  },
  {
   "cell_type": "code",
   "execution_count": 507,
   "metadata": {
    "collapsed": false
   },
   "outputs": [
    {
     "data": {
      "text/plain": [
       "interested_in_international_foods  knowledge_level_of_international_food\n",
       "A lot                              Advanced                                  9\n",
       "                                   Intermediate                             13\n",
       "                                   Novice                                    4\n",
       "Not at all���                      Novice                                    6\n",
       "Not much���                        Advanced                                  1\n",
       "                                   Intermediate                              9\n",
       "                                   Novice                                   12\n",
       "Some                               Advanced                                  1\n",
       "                                   Intermediate                             21\n",
       "                                   Novice                                   24\n",
       "dtype: int64"
      ]
     },
     "execution_count": 507,
     "metadata": {},
     "output_type": "execute_result"
    }
   ],
   "source": [
    "d = data\n",
    "d= d.groupby(['interested_in_international_foods','knowledge_level_of_international_food']).size()\n",
    "d"
   ]
  },
  {
   "cell_type": "code",
   "execution_count": null,
   "metadata": {
    "collapsed": true
   },
   "outputs": [],
   "source": []
  },
  {
   "cell_type": "code",
   "execution_count": null,
   "metadata": {
    "collapsed": true
   },
   "outputs": [],
   "source": []
  },
  {
   "cell_type": "code",
   "execution_count": null,
   "metadata": {
    "collapsed": true
   },
   "outputs": [],
   "source": []
  },
  {
   "cell_type": "code",
   "execution_count": null,
   "metadata": {
    "collapsed": true
   },
   "outputs": [],
   "source": []
  },
  {
   "cell_type": "markdown",
   "metadata": {
    "collapsed": true
   },
   "source": [
    "Not surprisingly, people who are very interested in international foods also have a higher knowledge of them and viceversa.\n"
   ]
  },
  {
   "cell_type": "code",
   "execution_count": 521,
   "metadata": {
    "collapsed": false
   },
   "outputs": [
    {
     "data": {
      "text/plain": [
       "respondent_id                            100\n",
       "knowledge_level_of_international_food    100\n",
       "interested_in_international_foods        100\n",
       "united_states                             92\n",
       "age                                       91\n",
       "gender                                    91\n",
       "education                                 90\n",
       "census_region_location                    90\n",
       "mexico                                    86\n",
       "italy                                     85\n",
       "china                                     80\n",
       "england                                   80\n",
       "france                                    77\n",
       "germany                                   77\n",
       "india                                     76\n",
       "household_income                          75\n",
       "japan                                     75\n",
       "greece                                    70\n",
       "thailand                                  66\n",
       "spain                                     65\n",
       "ireland                                   63\n",
       "cuba                                      46\n",
       "vietnam                                   45\n",
       "russia                                    40\n",
       "australia                                 38\n",
       "south_korea                               38\n",
       "brazil                                    36\n",
       "switzerland                               33\n",
       "belgium                                   31\n",
       "portugal                                  30\n",
       "costa_rica                                29\n",
       "colombia                                  29\n",
       "argentina                                 28\n",
       "chile                                     27\n",
       "the_netherlands                           25\n",
       "turkey                                    24\n",
       "ethiopia                                  21\n",
       "ecuador                                   19\n",
       "iran                                      19\n",
       "honduras                                  18\n",
       "uruguay                                   14\n",
       "croatia                                   12\n",
       "bosnia_and_herzegovina                    10\n",
       "algeria                                   10\n",
       "ghana                                      9\n",
       "ivory_coast                                8\n",
       "cameroon                                   7\n",
       "nigeria                                    5\n",
       "dtype: int64"
      ]
     },
     "execution_count": 521,
     "metadata": {},
     "output_type": "execute_result"
    }
   ],
   "source": [
    "df = data\n",
    "ser = data.count()#[3:43]\n",
    "ser = ser\n",
    "ser.order(ascending = False)"
   ]
  },
  {
   "cell_type": "markdown",
   "metadata": {},
   "source": [
    "This is a metric I have come across to show the popularity of certain cuisines. This shows how many people actually knew about a certain food. This can also be used to estimate how reliable certain results are. For instance, when I find that Ghana is the 2nd most popular among Novice people, I also see that only 9 people responded in this case, which makes me doubt about statical validity..."
   ]
  },
  {
   "cell_type": "code",
   "execution_count": 55,
   "metadata": {
    "collapsed": false
   },
   "outputs": [
    {
     "data": {
      "text/plain": [
       "gender\n",
       "Female    38\n",
       "Male      53\n",
       "dtype: int64"
      ]
     },
     "execution_count": 55,
     "metadata": {},
     "output_type": "execute_result"
    }
   ],
   "source": [
    "df = data\n",
    "df.groupby('gender').size()\n",
    "#df['gender'].isnull().sum()"
   ]
  },
  {
   "cell_type": "code",
   "execution_count": null,
   "metadata": {
    "collapsed": true
   },
   "outputs": [],
   "source": []
  },
  {
   "cell_type": "code",
   "execution_count": null,
   "metadata": {
    "collapsed": true
   },
   "outputs": [],
   "source": []
  },
  {
   "cell_type": "code",
   "execution_count": null,
   "metadata": {
    "collapsed": true
   },
   "outputs": [],
   "source": []
  }
 ],
 "metadata": {
  "kernelspec": {
   "display_name": "Python 2",
   "language": "python",
   "name": "python2"
  },
  "language_info": {
   "codemirror_mode": {
    "name": "ipython",
    "version": 2
   },
   "file_extension": ".py",
   "mimetype": "text/x-python",
   "name": "python",
   "nbconvert_exporter": "python",
   "pygments_lexer": "ipython2",
   "version": "2.7.10"
  }
 },
 "nbformat": 4,
 "nbformat_minor": 0
}
